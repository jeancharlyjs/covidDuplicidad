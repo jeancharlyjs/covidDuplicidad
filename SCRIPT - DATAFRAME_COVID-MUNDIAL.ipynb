{
 "cells": [
  {
   "cell_type": "markdown",
   "metadata": {},
   "source": [
    "# <center>Extracción de Datos - Covid-19 (Coronavirus): Entwicklung Verdopplungszahlen por: Script - Jean Charly</center>"
   ]
  },
  {
   "cell_type": "code",
   "execution_count": 2,
   "metadata": {},
   "outputs": [],
   "source": [
    "# IMPORTACIONES\n",
    "\n",
    "import pandas as pd\n",
    "import requests\n",
    "import json\n",
    "import urllib3\n",
    "from datetime import datetime\n",
    "import os\n",
    "import glob as gl\n",
    "\n",
    "# # Varibles importantes\n",
    "# a18 --> Verdopplungszeit\n",
    "# a4 --> Bestätigte Infektionen\n",
    "\n",
    "# Paises\n",
    "    # Vereinigte Staaten\n",
    "    # Chile\n",
    "    # Deutschland\n",
    "    # Dominikanische Republik\n",
    "\n",
    "#CARGAR URL\n",
    "\n",
    "https = urllib3.PoolManager()\n",
    "url = https.request(\"GET\", \"https://app.23degrees.io/services/publicdata/619c8b04b8633c001c64bb07\")\n",
    "data = json.loads(url.data)\n",
    "df = pd.DataFrame(data['data'][:], columns=[\"a3\", \"a2\", \"a4\", \"a18\"])"
   ]
  },
  {
   "cell_type": "markdown",
   "metadata": {},
   "source": [
    "# Rellenar datos Vacio 0 Nulos ==> 0"
   ]
  },
  {
   "cell_type": "code",
   "execution_count": 3,
   "metadata": {},
   "outputs": [
    {
     "data": {
      "text/html": [
       "<div>\n",
       "<style scoped>\n",
       "    .dataframe tbody tr th:only-of-type {\n",
       "        vertical-align: middle;\n",
       "    }\n",
       "\n",
       "    .dataframe tbody tr th {\n",
       "        vertical-align: top;\n",
       "    }\n",
       "\n",
       "    .dataframe thead th {\n",
       "        text-align: right;\n",
       "    }\n",
       "</style>\n",
       "<table border=\"1\" class=\"dataframe\">\n",
       "  <thead>\n",
       "    <tr style=\"text-align: right;\">\n",
       "      <th></th>\n",
       "      <th>a3</th>\n",
       "      <th>a2</th>\n",
       "      <th>a4</th>\n",
       "      <th>a18</th>\n",
       "    </tr>\n",
       "  </thead>\n",
       "  <tbody>\n",
       "    <tr>\n",
       "      <th>25217</th>\n",
       "      <td>2021-03-05</td>\n",
       "      <td>Dominikanische Republik</td>\n",
       "      <td>242087</td>\n",
       "      <td>338</td>\n",
       "    </tr>\n",
       "    <tr>\n",
       "      <th>25218</th>\n",
       "      <td>2021-03-06</td>\n",
       "      <td>Dominikanische Republik</td>\n",
       "      <td>242660</td>\n",
       "      <td>314</td>\n",
       "    </tr>\n",
       "    <tr>\n",
       "      <th>25219</th>\n",
       "      <td>2021-03-07</td>\n",
       "      <td>Dominikanische Republik</td>\n",
       "      <td>243247</td>\n",
       "      <td>275</td>\n",
       "    </tr>\n",
       "    <tr>\n",
       "      <th>25220</th>\n",
       "      <td>2021-03-08</td>\n",
       "      <td>Dominikanische Republik</td>\n",
       "      <td>243526</td>\n",
       "      <td>305</td>\n",
       "    </tr>\n",
       "    <tr>\n",
       "      <th>25221</th>\n",
       "      <td>2021-03-09</td>\n",
       "      <td>Dominikanische Republik</td>\n",
       "      <td>243778</td>\n",
       "      <td>352</td>\n",
       "    </tr>\n",
       "  </tbody>\n",
       "</table>\n",
       "</div>"
      ],
      "text/plain": [
       "               a3                       a2      a4  a18\n",
       "25217  2021-03-05  Dominikanische Republik  242087  338\n",
       "25218  2021-03-06  Dominikanische Republik  242660  314\n",
       "25219  2021-03-07  Dominikanische Republik  243247  275\n",
       "25220  2021-03-08  Dominikanische Republik  243526  305\n",
       "25221  2021-03-09  Dominikanische Republik  243778  352"
      ]
     },
     "execution_count": 3,
     "metadata": {},
     "output_type": "execute_result"
    }
   ],
   "source": [
    "df['a18'] = df['a18'].fillna(0)\n",
    "df['a18'] = df['a18'].apply(lambda x: round(x))\n",
    "data_ = df[(df['a3']>='2021-01-01') & (df['a3']<='2021-03-09') & (df['a2']=='Dominikanische Republik')]\n",
    "data_.tail()\n"
   ]
  },
  {
   "cell_type": "markdown",
   "metadata": {},
   "source": [
    "# Generar Excel "
   ]
  },
  {
   "cell_type": "code",
   "execution_count": 4,
   "metadata": {},
   "outputs": [],
   "source": [
    "paises_list = [\"Vereinigte Staaten\", \"Chile\", \"Deutschland\", \"Dominikanische Republik\"]\n",
    "fc = datetime.now().strftime(\"%Y-%m-%d\")\n",
    "\n",
    "\n",
    "df_element = []\n",
    "for countrys in paises_list:\n",
    "    df_ = df.rename(columns={\n",
    "                    \"a3\": \"Date\",\n",
    "                    \"a2\": \"Countrys\",\n",
    "                    \"a18\":\"Verdopplungszeit\",\n",
    "                    \"a4\": \"Bestätigte Infektionen\"\n",
    "    })\n",
    "    df__ = df_[(df_[\"Countrys\"]==countrys) & (df_['Date']>'2020-03-05') & (df_['Date']< fc)]\n",
    "    df_element.append(df__[[\"Date\", \"Countrys\", \"Verdopplungszeit\", \"Bestätigte Infektionen\"]])\n",
    "df_ = pd.concat(df_element, ignore_index=True)\n",
    "df_\n",
    "a = df_.groupby(['Countrys']).sum()\n",
    "a\n",
    "\n",
    "name = f\"Ronald_{fc}.xlsx\"\n",
    "grabar = pd.ExcelWriter(name)\n",
    "df_.to_excel(grabar, 'Hoja1')\n",
    "grabar.save()\n",
    "grabar.close()"
   ]
  },
  {
   "cell_type": "markdown",
   "metadata": {},
   "source": [
    "# Graficar"
   ]
  },
  {
   "cell_type": "markdown",
   "metadata": {},
   "source": [
    "# Verdopplungszeit - Doblando Tiempo\n"
   ]
  },
  {
   "cell_type": "code",
   "execution_count": 4,
   "metadata": {},
   "outputs": [
    {
     "data": {
      "image/png": "[encoded data removed]",
      "text/plain": [
       "<Figure size 864x504 with 1 Axes>"
      ]
     },
     "metadata": {
      "needs_background": "light"
     },
     "output_type": "display_data"
    }
   ],
   "source": [
    "import matplotlib.pyplot as plt\n",
    "\n",
    "fig, ax = plt.subplots(figsize=(12, 7), sharey=True)\n",
    "ax.bar(df_['Countrys'], df_['Verdopplungszeit'])\n",
    "ax.set_xlabel(\"Countrys\", fontdict={'fontsize': 15})\n",
    "ax.set_ylabel(\"Data\", fontdict={'fontsize': 15})\n",
    "ax.set_title(\"Verdopplungszeit - Doblando Tiempo\", fontdict={'fontsize': 30})\n",
    "plt.savefig(\"Doblado Tiempo.jpg\")\n",
    "plt.show()\n",
    "\n",
    "\n"
   ]
  },
  {
   "cell_type": "code",
   "execution_count": 5,
   "metadata": {},
   "outputs": [
    {
     "data": {
      "image/png": "[encoded data removed]",
      "text/plain": [
       "<Figure size 864x504 with 1 Axes>"
      ]
     },
     "metadata": {
      "needs_background": "light"
     },
     "output_type": "display_data"
    }
   ],
   "source": [
    "import matplotlib.pyplot as plt\n",
    "\n",
    "fig, ax = plt.subplots(figsize=(12, 7), sharey=True)\n",
    "ax.bar(a.index, a['Verdopplungszeit'])\n",
    "ax.set_xlabel(\"Countrys\")\n",
    "ax.set_ylabel(\"Data\")\n",
    "# ax.set_title(\"\")\n",
    "plt.show()"
   ]
  },
  {
   "cell_type": "markdown",
   "metadata": {},
   "source": [
    "# Bestätigte Infektionen -  Infecciones Confirmadas"
   ]
  },
  {
   "cell_type": "code",
   "execution_count": 6,
   "metadata": {
    "scrolled": false
   },
   "outputs": [
    {
     "data": {
      "image/png": "[encoded data removed]",
      "text/plain": [
       "<Figure size 864x504 with 1 Axes>"
      ]
     },
     "metadata": {
      "needs_background": "light"
     },
     "output_type": "display_data"
    }
   ],
   "source": [
    "import matplotlib.pyplot as plt\n",
    "\n",
    "fig, ax = plt.subplots(figsize=(12, 7), sharey=True)\n",
    "ax.bar(df_['Countrys'], df_['Bestätigte Infektionen'])\n",
    "ax.set_xlabel(\"Countrys\", fontdict={'fontsize': 15})\n",
    "ax.set_ylabel(\"Data\", fontdict={'fontsize': 15})\n",
    "ax.set_title(\"Bestätigte Infektionen - Infecciones Confirmadas\", fontdict={'fontsize': 30})\n",
    "plt.savefig(\"Bestätigte Infektionen - Infecciones Confirmadas.jpg\")\n",
    "plt.show()\n"
   ]
  },
  {
   "cell_type": "code",
   "execution_count": null,
   "metadata": {},
   "outputs": [],
   "source": []
  }
 ],
 "metadata": {
  "kernelspec": {
   "display_name": "Python 3 (ipykernel)",
   "language": "python",
   "name": "python3"
  },
  "language_info": {
   "codemirror_mode": {
    "name": "ipython",
    "version": 3
   },
   "file_extension": ".py",
   "mimetype": "text/x-python",
   "name": "python",
   "nbconvert_exporter": "python",
   "pygments_lexer": "ipython3",
   "version": "3.9.4"
  }
 },
 "nbformat": 4,
 "nbformat_minor": 4
}
